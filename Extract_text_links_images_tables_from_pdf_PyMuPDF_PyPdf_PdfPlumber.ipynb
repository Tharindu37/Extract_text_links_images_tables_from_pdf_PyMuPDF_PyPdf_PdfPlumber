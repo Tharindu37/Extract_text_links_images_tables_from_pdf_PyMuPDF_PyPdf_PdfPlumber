{
  "nbformat": 4,
  "nbformat_minor": 0,
  "metadata": {
    "colab": {
      "provenance": []
    },
    "kernelspec": {
      "name": "python3",
      "display_name": "Python 3"
    },
    "language_info": {
      "name": "python"
    }
  },
  "cells": [
    {
      "cell_type": "markdown",
      "source": [
        "### pypdf"
      ],
      "metadata": {
        "id": "q-RSsbwEusyS"
      }
    },
    {
      "cell_type": "code",
      "execution_count": 21,
      "metadata": {
        "colab": {
          "base_uri": "https://localhost:8080/"
        },
        "id": "lvVQvQE3pCLY",
        "outputId": "959c6470-464e-438b-b0bd-c873d14169ff"
      },
      "outputs": [
        {
          "output_type": "stream",
          "name": "stdout",
          "text": [
            "Requirement already satisfied: pypdf in /usr/local/lib/python3.10/dist-packages (4.2.0)\n",
            "Requirement already satisfied: typing_extensions>=4.0 in /usr/local/lib/python3.10/dist-packages (from pypdf) (4.11.0)\n"
          ]
        }
      ],
      "source": [
        "!pip install pypdf\n",
        "from pypdf import PdfReader"
      ]
    },
    {
      "cell_type": "code",
      "source": [
        "reader = PdfReader(\"/content/drive/MyDrive/Colab Notebooks/Extract_text_links_images_tables_from_pdf/course-content-mobile.pdf\");"
      ],
      "metadata": {
        "id": "AZriNZxmsX8w"
      },
      "execution_count": 22,
      "outputs": []
    },
    {
      "cell_type": "code",
      "source": [
        "print(len(reader.pages))"
      ],
      "metadata": {
        "colab": {
          "base_uri": "https://localhost:8080/"
        },
        "id": "iPldTmCXuday",
        "outputId": "89239adb-8726-47b5-ce82-002ec8c46ba5"
      },
      "execution_count": 23,
      "outputs": [
        {
          "output_type": "stream",
          "name": "stdout",
          "text": [
            "2\n"
          ]
        }
      ]
    },
    {
      "cell_type": "code",
      "source": [
        "page=reader.pages[0]"
      ],
      "metadata": {
        "id": "SGX_q9Guu2Sf"
      },
      "execution_count": 24,
      "outputs": []
    },
    {
      "cell_type": "code",
      "source": [
        "print(page.extract_text())"
      ],
      "metadata": {
        "colab": {
          "base_uri": "https://localhost:8080/"
        },
        "id": "nJ1Ov63Qu-OQ",
        "outputId": "06842054-f546-414d-8efc-bad7a272b283"
      },
      "execution_count": 25,
      "outputs": [
        {
          "output_type": "stream",
          "name": "stdout",
          "text": [
            "             Seekers Cloud  \n",
            "             Guides you to the technology  \n",
            " \n",
            " \n",
            "Seekers Cloud Special Bootcamp  \n",
            "(Seekers Cloud Developer’s Stack)  \n",
            "Course outline v 1.0  \n",
            "2022  \n",
            " \n",
            "Instructor  \n",
            "Name: L.A. Hasika Sandaruwan  \n",
            "Company: Seekers Cloud  \n",
            "Phone : +1 (276) 3000 733 / +94 714 9112 57  \n",
            "Email : hasikasandaruwan.info@gmail.com  \n",
            " \n",
            " \n",
            "Course fee  \n",
            " \n",
            "First 2  Days (8  hours)  Free \n",
            "1st Month  5,000 LKR  \n",
            "2nd Month  5,000 LKR  \n",
            "Total  10,000 LKR  \n",
            " \n",
            " Note: you must complete all the following stages to get a certificate , transcript, T -shirt & \n",
            "Internship program .  \n",
            " (for an internship program , contact  Shaleen thilanka : +94770701163 ) \n",
            " \n",
            " \n",
            "Duration: 3 Months  \n",
            "Starting Date: September  17,2022  \n",
            "Lecturing Date: Saturday , Sunday  \n",
            "Lecturing Time: 8.00 pm - 12.00 am (4 hours)  \n",
            "Transcript, Certificate & T -Shirt: Available  \n",
            "Communication Medium: Zoom Platform  \n",
            " \n",
            " \n",
            " \n",
            "Stage 01  \n",
            "HTML  \n",
            "Css \n",
            "Java Script  \n",
            "Final Project  \n",
            " \n"
          ]
        }
      ]
    },
    {
      "cell_type": "code",
      "source": [
        "for i in page.images:\n",
        "  with open('/content/drive/MyDrive/Colab Notebooks/Extract_text_links_images_tables_from_pdf/'+i.name, 'wb') as f:\n",
        "    f.write(i.data)"
      ],
      "metadata": {
        "id": "t6GVEjChvIbs"
      },
      "execution_count": 26,
      "outputs": []
    },
    {
      "cell_type": "markdown",
      "source": [
        "### pdfplumber"
      ],
      "metadata": {
        "id": "OdQw9Mh5uvsC"
      }
    },
    {
      "cell_type": "code",
      "source": [
        "!pip install pdfplumber\n",
        "import pdfplumber"
      ],
      "metadata": {
        "colab": {
          "base_uri": "https://localhost:8080/"
        },
        "id": "W4MBHtyVsFPo",
        "outputId": "fd687e5f-4277-4013-fc46-179cf9bfae76"
      },
      "execution_count": 27,
      "outputs": [
        {
          "output_type": "stream",
          "name": "stdout",
          "text": [
            "Requirement already satisfied: pdfplumber in /usr/local/lib/python3.10/dist-packages (0.11.0)\n",
            "Requirement already satisfied: pdfminer.six==20231228 in /usr/local/lib/python3.10/dist-packages (from pdfplumber) (20231228)\n",
            "Requirement already satisfied: Pillow>=9.1 in /usr/local/lib/python3.10/dist-packages (from pdfplumber) (9.4.0)\n",
            "Requirement already satisfied: pypdfium2>=4.18.0 in /usr/local/lib/python3.10/dist-packages (from pdfplumber) (4.30.0)\n",
            "Requirement already satisfied: charset-normalizer>=2.0.0 in /usr/local/lib/python3.10/dist-packages (from pdfminer.six==20231228->pdfplumber) (3.3.2)\n",
            "Requirement already satisfied: cryptography>=36.0.0 in /usr/local/lib/python3.10/dist-packages (from pdfminer.six==20231228->pdfplumber) (42.0.7)\n",
            "Requirement already satisfied: cffi>=1.12 in /usr/local/lib/python3.10/dist-packages (from cryptography>=36.0.0->pdfminer.six==20231228->pdfplumber) (1.16.0)\n",
            "Requirement already satisfied: pycparser in /usr/local/lib/python3.10/dist-packages (from cffi>=1.12->cryptography>=36.0.0->pdfminer.six==20231228->pdfplumber) (2.22)\n"
          ]
        }
      ]
    },
    {
      "cell_type": "code",
      "source": [
        "with pdfplumber.open(\"/content/drive/MyDrive/Colab Notebooks/Extract_text_links_images_tables_from_pdf/course-content-mobile.pdf\") as pdf:\n",
        "  for page in pdf.pages:\n",
        "    print(page.extract_table())"
      ],
      "metadata": {
        "colab": {
          "base_uri": "https://localhost:8080/"
        },
        "id": "fybBXk67wTlT",
        "outputId": "e8600935-50e0-4d97-b043-5a9f344ca7cb"
      },
      "execution_count": 28,
      "outputs": [
        {
          "output_type": "stream",
          "name": "stdout",
          "text": [
            "[['First 2 Days (8 hours)', 'Free'], ['1st Month', '5,000 LKR'], ['2nd Month', '5,000 LKR'], ['Total', '10,000 LKR']]\n",
            "[['Stage 02'], ['React Native'], ['Material UI'], ['Redux'], ['Firebase'], ['Final Project']]\n"
          ]
        }
      ]
    },
    {
      "cell_type": "markdown",
      "source": [
        "### pymupdf"
      ],
      "metadata": {
        "id": "Op3LADSmuySQ"
      }
    },
    {
      "cell_type": "code",
      "source": [
        "!pip install pymupdf\n",
        "import fitz"
      ],
      "metadata": {
        "colab": {
          "base_uri": "https://localhost:8080/"
        },
        "id": "WhWYeVJrsJni",
        "outputId": "5f70add5-22db-44e0-9e7b-d7065cfa20b9"
      },
      "execution_count": 29,
      "outputs": [
        {
          "output_type": "stream",
          "name": "stdout",
          "text": [
            "Requirement already satisfied: pymupdf in /usr/local/lib/python3.10/dist-packages (1.24.4)\n",
            "Requirement already satisfied: PyMuPDFb==1.24.3 in /usr/local/lib/python3.10/dist-packages (from pymupdf) (1.24.3)\n"
          ]
        }
      ]
    },
    {
      "cell_type": "code",
      "source": [
        "doc=fitz.open(\"/content/drive/MyDrive/Colab Notebooks/Extract_text_links_images_tables_from_pdf/course-content-mobile.pdf\")\n",
        "print(doc.page_count)"
      ],
      "metadata": {
        "colab": {
          "base_uri": "https://localhost:8080/"
        },
        "id": "gkcdmg7EsOiP",
        "outputId": "11ad7432-1b98-4483-d03b-889cefe8dc26"
      },
      "execution_count": 30,
      "outputs": [
        {
          "output_type": "stream",
          "name": "stdout",
          "text": [
            "2\n"
          ]
        }
      ]
    },
    {
      "cell_type": "code",
      "source": [
        "print(doc.metadata)"
      ],
      "metadata": {
        "colab": {
          "base_uri": "https://localhost:8080/"
        },
        "id": "Fye7ekqhw9T3",
        "outputId": "7e035510-d501-4ff4-c877-1cd0f3fee422"
      },
      "execution_count": 31,
      "outputs": [
        {
          "output_type": "stream",
          "name": "stdout",
          "text": [
            "{'format': 'PDF 1.5', 'title': '', 'author': 'seekerscloud', 'subject': '', 'keywords': '', 'creator': 'Microsoft® Word 2016', 'producer': 'Microsoft® Word 2016', 'creationDate': \"D:20220904163700-07'00'\", 'modDate': \"D:20220904163700-07'00'\", 'trapped': '', 'encryption': None}\n"
          ]
        }
      ]
    },
    {
      "cell_type": "code",
      "source": [
        "page=doc.load_page(0)\n",
        "print(page.get_text())"
      ],
      "metadata": {
        "colab": {
          "base_uri": "https://localhost:8080/"
        },
        "id": "ADOOk841xCvY",
        "outputId": "d054ebea-4606-4979-c720-fcbcafc7161f"
      },
      "execution_count": 32,
      "outputs": [
        {
          "output_type": "stream",
          "name": "stdout",
          "text": [
            "             Seekers Cloud \n",
            "             Guides you to the technology \n",
            " \n",
            " \n",
            "Seekers Cloud Special Bootcamp \n",
            "(Seekers Cloud Developer’s Stack) \n",
            "Course outline v 1.0 \n",
            "2022 \n",
            " \n",
            "Instructor \n",
            "Name: L.A. Hasika Sandaruwan \n",
            "Company: Seekers Cloud \n",
            "Phone: +1 (276) 3000 733 / +94 714 9112 57 \n",
            "Email: hasikasandaruwan.info@gmail.com \n",
            " \n",
            " \n",
            "Course fee \n",
            " \n",
            "First 2 Days (8 hours) \n",
            "Free \n",
            "1st Month \n",
            "5,000 LKR \n",
            "2nd Month \n",
            "5,000 LKR \n",
            "Total \n",
            "10,000 LKR \n",
            " \n",
            " \n",
            "Note: you must complete all the following stages to get a certificate, transcript, T-shirt & \n",
            "Internship program.  \n",
            " \n",
            "(for an internship program, contact Shaleen thilanka : +94770701163) \n",
            " \n",
            " \n",
            "Duration: 3 Months \n",
            "Starting Date: September 17,2022 \n",
            "Lecturing Date: Saturday, Sunday \n",
            "Lecturing Time: 8.00 pm - 12.00 am (4 hours) \n",
            "Transcript, Certificate & T-Shirt: Available \n",
            "Communication Medium: Zoom Platform \n",
            " \n",
            " \n",
            " \n",
            "Stage 01 \n",
            "HTML \n",
            "Css \n",
            "Java Script \n",
            "Final Project \n",
            " \n",
            "\n"
          ]
        }
      ]
    },
    {
      "cell_type": "code",
      "source": [
        "pix=page.get_pixmap()\n",
        "pix.save(\"/content/drive/MyDrive/Colab Notebooks/Extract_text_links_images_tables_from_pdf/page1.png\")"
      ],
      "metadata": {
        "id": "k6Nng0-wxLmn"
      },
      "execution_count": 33,
      "outputs": []
    },
    {
      "cell_type": "code",
      "source": [
        "links=page.get_links()\n",
        "print(links)"
      ],
      "metadata": {
        "colab": {
          "base_uri": "https://localhost:8080/"
        },
        "id": "mrzG2BRgxcwg",
        "outputId": "ca839972-4ba5-4e3a-8b6e-26151446bb64"
      },
      "execution_count": 34,
      "outputs": [
        {
          "output_type": "stream",
          "name": "stdout",
          "text": [
            "[{'kind': 2, 'xref': 22, 'from': Rect(105.20999908447266, 230.91998291015625, 283.5199890136719, 244.57000732421875), 'uri': 'mailto:hasikasandaruwan.info@gmail.com', 'id': ''}]\n"
          ]
        }
      ]
    },
    {
      "cell_type": "code",
      "source": [],
      "metadata": {
        "id": "rg_ncf7Gx7a9"
      },
      "execution_count": 34,
      "outputs": []
    }
  ]
}